{
  "nbformat": 4,
  "nbformat_minor": 0,
  "metadata": {
    "colab": {
      "name": "baseline_final",
      "provenance": [],
      "collapsed_sections": []
    },
    "kernelspec": {
      "name": "python3",
      "display_name": "Python 3"
    }
  },
  "cells": [
    {
      "cell_type": "code",
      "metadata": {
        "id": "075E3u3t8CDQ",
        "colab_type": "code",
        "colab": {}
      },
      "source": [
        "import pandas as pd\n",
        "import numpy as np"
      ],
      "execution_count": null,
      "outputs": []
    },
    {
      "cell_type": "code",
      "metadata": {
        "id": "KbMTn5BR8Fw5",
        "colab_type": "code",
        "colab": {}
      },
      "source": [
        "train = pd.read_csv('/content/drive/My Drive/Analytics Vidya Customer segmentation/Train_aBjfeNk.csv')\n",
        "test = pd.read_csv('/content/drive/My Drive/Analytics Vidya Customer segmentation/Test_LqhgPWU.csv')\n",
        "subs = pd.read_csv('/content/drive/My Drive/Analytics Vidya Customer segmentation/sample_submission_wyi0h0z.csv')"
      ],
      "execution_count": null,
      "outputs": []
    },
    {
      "cell_type": "code",
      "metadata": {
        "id": "TQ3JCjZIoJvR",
        "colab_type": "code",
        "colab": {
          "base_uri": "https://localhost:8080/",
          "height": 204
        },
        "outputId": "dd101130-bd57-46cf-bbb0-6e49f1cd53b4"
      },
      "source": [
        "train.head()"
      ],
      "execution_count": null,
      "outputs": [
        {
          "output_type": "execute_result",
          "data": {
            "text/html": [
              "<div>\n",
              "<style scoped>\n",
              "    .dataframe tbody tr th:only-of-type {\n",
              "        vertical-align: middle;\n",
              "    }\n",
              "\n",
              "    .dataframe tbody tr th {\n",
              "        vertical-align: top;\n",
              "    }\n",
              "\n",
              "    .dataframe thead th {\n",
              "        text-align: right;\n",
              "    }\n",
              "</style>\n",
              "<table border=\"1\" class=\"dataframe\">\n",
              "  <thead>\n",
              "    <tr style=\"text-align: right;\">\n",
              "      <th></th>\n",
              "      <th>ID</th>\n",
              "      <th>Gender</th>\n",
              "      <th>Ever_Married</th>\n",
              "      <th>Age</th>\n",
              "      <th>Graduated</th>\n",
              "      <th>Profession</th>\n",
              "      <th>Work_Experience</th>\n",
              "      <th>Spending_Score</th>\n",
              "      <th>Family_Size</th>\n",
              "      <th>Var_1</th>\n",
              "      <th>Segmentation</th>\n",
              "    </tr>\n",
              "  </thead>\n",
              "  <tbody>\n",
              "    <tr>\n",
              "      <th>0</th>\n",
              "      <td>462809</td>\n",
              "      <td>Male</td>\n",
              "      <td>No</td>\n",
              "      <td>22</td>\n",
              "      <td>No</td>\n",
              "      <td>Healthcare</td>\n",
              "      <td>1.0</td>\n",
              "      <td>Low</td>\n",
              "      <td>4.0</td>\n",
              "      <td>Cat_4</td>\n",
              "      <td>D</td>\n",
              "    </tr>\n",
              "    <tr>\n",
              "      <th>1</th>\n",
              "      <td>462643</td>\n",
              "      <td>Female</td>\n",
              "      <td>Yes</td>\n",
              "      <td>38</td>\n",
              "      <td>Yes</td>\n",
              "      <td>Engineer</td>\n",
              "      <td>NaN</td>\n",
              "      <td>Average</td>\n",
              "      <td>3.0</td>\n",
              "      <td>Cat_4</td>\n",
              "      <td>A</td>\n",
              "    </tr>\n",
              "    <tr>\n",
              "      <th>2</th>\n",
              "      <td>466315</td>\n",
              "      <td>Female</td>\n",
              "      <td>Yes</td>\n",
              "      <td>67</td>\n",
              "      <td>Yes</td>\n",
              "      <td>Engineer</td>\n",
              "      <td>1.0</td>\n",
              "      <td>Low</td>\n",
              "      <td>1.0</td>\n",
              "      <td>Cat_6</td>\n",
              "      <td>B</td>\n",
              "    </tr>\n",
              "    <tr>\n",
              "      <th>3</th>\n",
              "      <td>461735</td>\n",
              "      <td>Male</td>\n",
              "      <td>Yes</td>\n",
              "      <td>67</td>\n",
              "      <td>Yes</td>\n",
              "      <td>Lawyer</td>\n",
              "      <td>0.0</td>\n",
              "      <td>High</td>\n",
              "      <td>2.0</td>\n",
              "      <td>Cat_6</td>\n",
              "      <td>B</td>\n",
              "    </tr>\n",
              "    <tr>\n",
              "      <th>4</th>\n",
              "      <td>462669</td>\n",
              "      <td>Female</td>\n",
              "      <td>Yes</td>\n",
              "      <td>40</td>\n",
              "      <td>Yes</td>\n",
              "      <td>Entertainment</td>\n",
              "      <td>NaN</td>\n",
              "      <td>High</td>\n",
              "      <td>6.0</td>\n",
              "      <td>Cat_6</td>\n",
              "      <td>A</td>\n",
              "    </tr>\n",
              "  </tbody>\n",
              "</table>\n",
              "</div>"
            ],
            "text/plain": [
              "       ID  Gender Ever_Married  ...  Family_Size  Var_1 Segmentation\n",
              "0  462809    Male           No  ...          4.0  Cat_4            D\n",
              "1  462643  Female          Yes  ...          3.0  Cat_4            A\n",
              "2  466315  Female          Yes  ...          1.0  Cat_6            B\n",
              "3  461735    Male          Yes  ...          2.0  Cat_6            B\n",
              "4  462669  Female          Yes  ...          6.0  Cat_6            A\n",
              "\n",
              "[5 rows x 11 columns]"
            ]
          },
          "metadata": {
            "tags": []
          },
          "execution_count": 32
        }
      ]
    },
    {
      "cell_type": "code",
      "metadata": {
        "id": "FfoCfD3c9Y7u",
        "colab_type": "code",
        "colab": {}
      },
      "source": [
        "from sklearn.preprocessing import LabelEncoder\n",
        "lb1 = LabelEncoder()\n",
        "lb = LabelEncoder()"
      ],
      "execution_count": null,
      "outputs": []
    },
    {
      "cell_type": "code",
      "metadata": {
        "id": "wSQaUz4s8Fy8",
        "colab_type": "code",
        "colab": {}
      },
      "source": [
        "train_copy  = train.copy()\n",
        "test_copy = test.copy()\n",
        "train_copy['flag'] = 1\n",
        "test_copy['flag'] = 0\n",
        "\n",
        "total = pd.concat([train_copy, test_copy], axis = 0)\n",
        "from sklearn.cluster import KMeans\n",
        "km = KMeans(n_clusters=4)\n",
        "k_train_test = km.fit_predict(total[['Age']])\n",
        "total['Age_score'] = k_train_test"
      ],
      "execution_count": null,
      "outputs": []
    },
    {
      "cell_type": "code",
      "metadata": {
        "id": "b8DEys-J9ONL",
        "colab_type": "code",
        "colab": {}
      },
      "source": [
        "cat_cols = ['Gender', 'Ever_Married', 'Graduated', 'Profession', 'Spending_Score', 'Var_1']\n",
        "label_enc = {}\n",
        "for col in cat_cols:\n",
        "    total[col] = total[col].astype(str)\n",
        "    enc = LabelEncoder().fit(total[col])\n",
        "    total[col] = enc.transform(total[col])\n",
        "    label_enc[col] = enc"
      ],
      "execution_count": null,
      "outputs": []
    },
    {
      "cell_type": "code",
      "metadata": {
        "id": "YNz5fZDS9rKR",
        "colab_type": "code",
        "colab": {
          "base_uri": "https://localhost:8080/",
          "height": 34
        },
        "outputId": "c996a33f-94fd-4150-ee9d-79354127d128"
      },
      "source": [
        "train.shape , test.shape"
      ],
      "execution_count": null,
      "outputs": [
        {
          "output_type": "execute_result",
          "data": {
            "text/plain": [
              "((8068, 11), (2627, 10))"
            ]
          },
          "metadata": {
            "tags": []
          },
          "execution_count": 36
        }
      ]
    },
    {
      "cell_type": "code",
      "metadata": {
        "id": "3_b6yEsF9crW",
        "colab_type": "code",
        "colab": {}
      },
      "source": [
        "total = pd.get_dummies(total, columns = cat_cols)"
      ],
      "execution_count": null,
      "outputs": []
    },
    {
      "cell_type": "code",
      "metadata": {
        "id": "GqB2kW8c8F2t",
        "colab_type": "code",
        "colab": {}
      },
      "source": [
        "\n",
        "train_copy = total.loc[total['flag'] == 1]\n",
        "test_copy = total.loc[total['flag'] == 0]\n",
        "Xcols = total.drop(['Segmentation', 'flag','Age'], axis = 1).columns\n",
        "ycol = 'Segmentation'\n",
        "\n",
        "X = train_copy[Xcols]\n",
        "y = train_copy[ycol]\n",
        "\n",
        "Xtest = test_copy[Xcols]"
      ],
      "execution_count": null,
      "outputs": []
    },
    {
      "cell_type": "code",
      "metadata": {
        "id": "lO5zN8cl8F4s",
        "colab_type": "code",
        "colab": {}
      },
      "source": [
        "from sklearn.impute import KNNImputer,SimpleImputer\n",
        "from sklearn.preprocessing import StandardScaler,MinMaxScaler\n",
        "import xgboost as xgb\n",
        "from sklearn.pipeline import make_pipeline\n",
        "model = make_pipeline(SimpleImputer(strategy='most_frequent'), StandardScaler(),\n",
        "                      xgb.XGBClassifier(objective=\"multi:softmax\",n_jobs=-1,num_class=4,eval_metric=\"auc\",\n",
        "                                                      learning_rate =0.1,\n",
        "                                                         n_estimators=1000,\n",
        "                                                         max_depth=9,\n",
        "                                                         min_child_weight=1,\n",
        "                                                         gamma=0,\n",
        "                                                         subsample=0.8,\n",
        "                                                         colsample_bytree=0.8,random_state=43)).fit(X, y)"
      ],
      "execution_count": null,
      "outputs": []
    },
    {
      "cell_type": "code",
      "metadata": {
        "id": "YRtg8vJT8F8m",
        "colab_type": "code",
        "colab": {}
      },
      "source": [
        "y_pred_pipe = model.predict(Xtest)"
      ],
      "execution_count": null,
      "outputs": []
    },
    {
      "cell_type": "code",
      "metadata": {
        "id": "LENA-YTt8imT",
        "colab_type": "code",
        "colab": {}
      },
      "source": [
        "subs['ID'] = test.ID\n",
        "subs[\"Segmentation\"]=y_pred_pipe\n",
        "subs.to_csv(\"/content/drive/My Drive/Analytics Vidya Customer segmentation/acc.csv\",index=False)"
      ],
      "execution_count": null,
      "outputs": []
    }
  ]
}